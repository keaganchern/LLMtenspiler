{
 "cells": [
  {
   "cell_type": "code",
   "execution_count": 20,
   "metadata": {},
   "outputs": [
    {
     "name": "stdout",
     "output_type": "stream",
     "text": [
      "tensor([[4.1921e+02, 4.5673e+02, 4.3333e+02,  ..., 7.6266e-01, 3.4375e+02,\n",
      "         3.8132e+02],\n",
      "        [1.3911e+05, 1.5137e+05, 1.4370e+05,  ..., 2.5326e+02, 1.1393e+05,\n",
      "         1.2645e+05],\n",
      "        [1.5640e+05, 1.7026e+05, 1.6162e+05,  ..., 2.8484e+02, 1.2814e+05,\n",
      "         1.4221e+05],\n",
      "        ...,\n",
      "        [1.7174e+05, 1.8720e+05, 1.7756e+05,  ..., 3.1325e+02, 1.4092e+05,\n",
      "         1.5625e+05],\n",
      "        [1.7926e+05, 1.9543e+05, 1.8535e+05,  ..., 3.2702e+02, 1.4710e+05,\n",
      "         1.6310e+05],\n",
      "        [1.9589e+05, 2.1359e+05, 2.0258e+05,  ..., 3.5742e+02, 1.6070e+05,\n",
      "         1.7826e+05]])\n"
     ]
    }
   ],
   "source": [
    "import torch\n",
    "import numpy as np\n",
    "# Initialize alpha and beta\n",
    "alpha = 1.5\n",
    "beta = 1.2\n",
    "ni =  800\n",
    "nj = 900\n",
    "nk = 1100\n",
    "nl = 1200\n",
    "    # Create arrays\n",
    "A = np.zeros((ni, nk), dtype=float)\n",
    "B = np.zeros((nk, nj), dtype=float)\n",
    "C = np.zeros((nj, nl), dtype=float)\n",
    "D = np.zeros((ni, nl), dtype=float)\n",
    "\n",
    "    # Populate arrays\n",
    "for i in range(ni):\n",
    "    for j in range(nk):\n",
    "        A[i][j] = ((i * j + 1) % ni) / ni\n",
    "    \n",
    "for i in range(nk):\n",
    "    for j in range(nj):\n",
    "        B[i][j] = (i * (j + 1) % nj) / nj\n",
    "    \n",
    "for i in range(nj):\n",
    "    for j in range(nl):\n",
    "        C[i][j] = ((i * (j + 3) + 1) % nl) / nl\n",
    "    \n",
    "for i in range(ni):\n",
    "    for j in range(nl):\n",
    "        D[i][j] = (i * (j + 2) % nk) / nk\n",
    "\n",
    "\n",
    "def kernel__torch (ni, nj, nk, nl, alpha, beta, A, B, C, D):\n",
    "    return ((beta) * (D)) + (((alpha) * ((A) @ (B))) @ (C))\n",
    "\n",
    "def kernel__torch_glued (ni, nj, nk, nl, alpha, beta, A, B, C, D):\n",
    "    A = torch.tensor(A, dtype=torch.float32)\n",
    "    B = torch.tensor(B, dtype=torch.float32)\n",
    "    C = torch.tensor(C, dtype=torch.float32)\n",
    "    D = torch.tensor(D, dtype=torch.float32)\n",
    "    return kernel__torch(ni, nj, nk, nl, alpha, beta, A, B, C, D)\n",
    "\n",
    "print(kernel__torch_glued(ni, nj, nk, nl, alpha, beta, A, B, C, D))"
   ]
  },
  {
   "cell_type": "code",
   "execution_count": null,
   "metadata": {},
   "outputs": [],
   "source": []
  }
 ],
 "metadata": {
  "kernelspec": {
   "display_name": "Python 3",
   "language": "python",
   "name": "python3"
  },
  "language_info": {
   "codemirror_mode": {
    "name": "ipython",
    "version": 3
   },
   "file_extension": ".py",
   "mimetype": "text/x-python",
   "name": "python",
   "nbconvert_exporter": "python",
   "pygments_lexer": "ipython3",
   "version": "3.11.9"
  }
 },
 "nbformat": 4,
 "nbformat_minor": 2
}
